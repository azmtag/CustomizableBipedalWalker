{
 "cells": [
  {
   "cell_type": "code",
   "execution_count": 1,
   "metadata": {},
   "outputs": [],
   "source": [
    "import gym\n",
    "import numpy as np\n",
    "import matplotlib.pyplot as plt\n",
    "%matplotlib inline"
   ]
  },
  {
   "cell_type": "code",
   "execution_count": 2,
   "metadata": {},
   "outputs": [],
   "source": [
    "# from https://github.com/openai/gym/blob/master/gym/envs/box2d/bipedal_walker.py\n",
    "def play(env, n_steps=100):\n",
    "    steps = 0\n",
    "    total_reward = 0\n",
    "    a = np.array([0.0, 0.0, 0.0, 0.0])\n",
    "    STAY_ON_ONE_LEG, PUT_OTHER_DOWN, PUSH_OFF = 1,2,3\n",
    "    SPEED = 0.29  # Will fall forward on higher speed\n",
    "    state = STAY_ON_ONE_LEG\n",
    "    moving_leg = 0\n",
    "    supporting_leg = 1 - moving_leg\n",
    "    SUPPORT_KNEE_ANGLE = +0.1\n",
    "    supporting_knee_angle = SUPPORT_KNEE_ANGLE\n",
    "    for _ in range(n_steps):\n",
    "        s, r, done, info = env.step(a)\n",
    "        total_reward += r\n",
    "#         if steps % 20 == 0 or done:\n",
    "#             print(\"\\naction \" + str([\"{:+0.2f}\".format(x) for x in a]))\n",
    "#             print(\"step {} total_reward {:+0.2f}\".format(steps, total_reward))\n",
    "#             print(\"hull \" + str([\"{:+0.2f}\".format(x) for x in s[0:4] ]))\n",
    "#             print(\"leg0 \" + str([\"{:+0.2f}\".format(x) for x in s[4:9] ]))\n",
    "#             print(\"leg1 \" + str([\"{:+0.2f}\".format(x) for x in s[9:14]]))\n",
    "        steps += 1\n",
    "\n",
    "        contact0 = s[8]\n",
    "        contact1 = s[13]\n",
    "        moving_s_base = 4 + 5*moving_leg\n",
    "        supporting_s_base = 4 + 5*supporting_leg\n",
    "\n",
    "        hip_targ  = [None,None]   # -0.8 .. +1.1\n",
    "        knee_targ = [None,None]   # -0.6 .. +0.9\n",
    "        hip_todo  = [0.0, 0.0]\n",
    "        knee_todo = [0.0, 0.0]\n",
    "\n",
    "        if state==STAY_ON_ONE_LEG:\n",
    "            hip_targ[moving_leg]  = 1.1\n",
    "            knee_targ[moving_leg] = -0.6\n",
    "            supporting_knee_angle += 0.03\n",
    "            if s[2] > SPEED: supporting_knee_angle += 0.03\n",
    "            supporting_knee_angle = min( supporting_knee_angle, SUPPORT_KNEE_ANGLE )\n",
    "            knee_targ[supporting_leg] = supporting_knee_angle\n",
    "            if s[supporting_s_base+0] < 0.10: # supporting leg is behind\n",
    "                state = PUT_OTHER_DOWN\n",
    "        if state==PUT_OTHER_DOWN:\n",
    "            hip_targ[moving_leg]  = +0.1\n",
    "            knee_targ[moving_leg] = SUPPORT_KNEE_ANGLE\n",
    "            knee_targ[supporting_leg] = supporting_knee_angle\n",
    "            if s[moving_s_base+4]:\n",
    "                state = PUSH_OFF\n",
    "                supporting_knee_angle = min( s[moving_s_base+2], SUPPORT_KNEE_ANGLE )\n",
    "        if state==PUSH_OFF:\n",
    "            knee_targ[moving_leg] = supporting_knee_angle\n",
    "            knee_targ[supporting_leg] = +1.0\n",
    "            if s[supporting_s_base+2] > 0.88 or s[2] > 1.2*SPEED:\n",
    "                state = STAY_ON_ONE_LEG\n",
    "                moving_leg = 1 - moving_leg\n",
    "                supporting_leg = 1 - moving_leg\n",
    "\n",
    "        if hip_targ[0]: hip_todo[0] = 0.9*(hip_targ[0] - s[4]) - 0.25*s[5]\n",
    "        if hip_targ[1]: hip_todo[1] = 0.9*(hip_targ[1] - s[9]) - 0.25*s[10]\n",
    "        if knee_targ[0]: knee_todo[0] = 4.0*(knee_targ[0] - s[6])  - 0.25*s[7]\n",
    "        if knee_targ[1]: knee_todo[1] = 4.0*(knee_targ[1] - s[11]) - 0.25*s[12]\n",
    "\n",
    "        hip_todo[0] -= 0.9*(0-s[0]) - 1.5*s[1] # PID to keep head strait\n",
    "        hip_todo[1] -= 0.9*(0-s[0]) - 1.5*s[1]\n",
    "        knee_todo[0] -= 15.0*s[3]  # vertical speed, to damp oscillations\n",
    "        knee_todo[1] -= 15.0*s[3]\n",
    "\n",
    "        a[0] = hip_todo[0]\n",
    "        a[1] = knee_todo[0]\n",
    "        a[2] = hip_todo[1]\n",
    "        a[3] = knee_todo[1]\n",
    "        a = np.clip(0.5*a, -1.0, 1.0)\n",
    "\n",
    "        env.render()\n",
    "        if done: \n",
    "            env.close()\n",
    "            break\n"
   ]
  },
  {
   "cell_type": "code",
   "execution_count": 3,
   "metadata": {},
   "outputs": [],
   "source": [
    "from bipedal_walker_custom import CustomizableBipedalWalker\n",
    "env = CustomizableBipedalWalker()"
   ]
  },
  {
   "cell_type": "markdown",
   "metadata": {},
   "source": [
    "### Pit with fixed width"
   ]
  },
  {
   "cell_type": "code",
   "execution_count": 4,
   "metadata": {},
   "outputs": [
    {
     "data": {
      "image/png": "[encoded data removed]",
      "text/plain": [
       "<Figure size 720x360 with 2 Axes>"
      ]
     },
     "metadata": {
      "needs_background": "light"
     },
     "output_type": "display_data"
    }
   ],
   "source": [
    "env.set_env_params(pit_width=3)\n",
    "env.set_env_states(state_mask=np.array([1,0,0,1],dtype=bool), p=np.array([0.1,0,0,0.9]))\n",
    "\n",
    "f, ax = plt.subplots(1,2,figsize=(10,5))\n",
    "ax[0].imshow(env.render(mode='rgb_array'))\n",
    "ax[0].get_xaxis().set_visible(False)\n",
    "ax[0].get_yaxis().set_visible(False)\n",
    "\n",
    "play(env,400)\n",
    "\n",
    "ax[1].imshow(env.render(mode='rgb_array'))\n",
    "ax[1].get_xaxis().set_visible(False)\n",
    "ax[1].get_yaxis().set_visible(False)\n",
    "\n",
    "env.close()"
   ]
  },
  {
   "cell_type": "markdown",
   "metadata": {},
   "source": [
    "### Pit with randomized width"
   ]
  },
  {
   "cell_type": "code",
   "execution_count": 5,
   "metadata": {},
   "outputs": [
    {
     "data": {
      "image/png": "[encoded data removed]",
      "text/plain": [
       "<Figure size 720x360 with 2 Axes>"
      ]
     },
     "metadata": {
      "needs_background": "light"
     },
     "output_type": "display_data"
    }
   ],
   "source": [
    "env.set_env_params(pit_width=(2,20))\n",
    "env.set_env_states(state_mask=np.array([1,0,0,1],dtype=bool), p=np.array([0.1,0.9,0.9,0.9]))\n",
    "\n",
    "f, ax = plt.subplots(1,2,figsize=(10,5))\n",
    "ax[0].imshow(env.render(mode='rgb_array'))\n",
    "ax[0].get_xaxis().set_visible(False)\n",
    "ax[0].get_yaxis().set_visible(False)\n",
    "\n",
    "play(env,400)\n",
    "\n",
    "ax[1].imshow(env.render(mode='rgb_array'))\n",
    "ax[1].get_xaxis().set_visible(False)\n",
    "ax[1].get_yaxis().set_visible(False)\n",
    "\n",
    "env.close()"
   ]
  },
  {
   "cell_type": "markdown",
   "metadata": {},
   "source": [
    "### Stump with fixed height"
   ]
  },
  {
   "cell_type": "code",
   "execution_count": 6,
   "metadata": {},
   "outputs": [
    {
     "data": {
      "image/png": "[encoded data removed]",
      "text/plain": [
       "<Figure size 720x360 with 2 Axes>"
      ]
     },
     "metadata": {
      "needs_background": "light"
     },
     "output_type": "display_data"
    }
   ],
   "source": [
    "env.set_env_params(stump_height=2)\n",
    "env.set_env_states(state_mask=np.array([1,1,0,0],dtype=bool), p=np.array([0.1,0.9,0.9,0.9]))\n",
    "\n",
    "f, ax = plt.subplots(1,2,figsize=(10,5))\n",
    "ax[0].imshow(env.render(mode='rgb_array'))\n",
    "ax[0].get_xaxis().set_visible(False)\n",
    "ax[0].get_yaxis().set_visible(False)\n",
    "\n",
    "play(env,400)\n",
    "\n",
    "ax[1].imshow(env.render(mode='rgb_array'))\n",
    "ax[1].get_xaxis().set_visible(False)\n",
    "ax[1].get_yaxis().set_visible(False)\n",
    "\n",
    "env.close()"
   ]
  },
  {
   "cell_type": "markdown",
   "metadata": {},
   "source": [
    "### Stump with randomized height"
   ]
  },
  {
   "cell_type": "code",
   "execution_count": 8,
   "metadata": {},
   "outputs": [
    {
     "data": {
      "image/png": "[encoded data removed]",
      "text/plain": [
       "<Figure size 720x360 with 2 Axes>"
      ]
     },
     "metadata": {
      "needs_background": "light"
     },
     "output_type": "display_data"
    }
   ],
   "source": [
    "env.set_env_params(stump_height=(2,20))\n",
    "env.set_env_states(state_mask=np.array([1,1,0,0],dtype=bool), p=np.array([0.1,0.9,0.9,0.9]))\n",
    "\n",
    "f, ax = plt.subplots(1,2,figsize=(10,5))\n",
    "ax[0].imshow(env.render(mode='rgb_array'))\n",
    "ax[0].get_xaxis().set_visible(False)\n",
    "ax[0].get_yaxis().set_visible(False)\n",
    "\n",
    "play(env,400)\n",
    "\n",
    "ax[1].imshow(env.render(mode='rgb_array'))\n",
    "ax[1].get_xaxis().set_visible(False)\n",
    "ax[1].get_yaxis().set_visible(False)\n",
    "\n",
    "env.close()"
   ]
  },
  {
   "cell_type": "markdown",
   "metadata": {},
   "source": [
    "### Allow only pits and stairs with default parameters"
   ]
  },
  {
   "cell_type": "code",
   "execution_count": 10,
   "metadata": {},
   "outputs": [
    {
     "data": {
      "image/png": "[encoded data removed]",
      "text/plain": [
       "<Figure size 720x360 with 2 Axes>"
      ]
     },
     "metadata": {
      "needs_background": "light"
     },
     "output_type": "display_data"
    }
   ],
   "source": [
    "env.reset_env_params()\n",
    "env.set_env_states(state_mask=np.array([1,0,1,1],dtype=bool))\n",
    "\n",
    "f, ax = plt.subplots(1,2,figsize=(10,5))\n",
    "ax[0].imshow(env.render(mode='rgb_array'))\n",
    "ax[0].get_xaxis().set_visible(False)\n",
    "ax[0].get_yaxis().set_visible(False)\n",
    "\n",
    "play(env,400)\n",
    "\n",
    "ax[1].imshow(env.render(mode='rgb_array'))\n",
    "ax[1].get_xaxis().set_visible(False)\n",
    "ax[1].get_yaxis().set_visible(False)\n",
    "\n",
    "env.close()"
   ]
  },
  {
   "cell_type": "code",
   "execution_count": null,
   "metadata": {},
   "outputs": [],
   "source": []
  }
 ],
 "metadata": {
  "kernelspec": {
   "display_name": "Python 3",
   "language": "python",
   "name": "python3"
  },
  "language_info": {
   "codemirror_mode": {
    "name": "ipython",
    "version": 3
   },
   "file_extension": ".py",
   "mimetype": "text/x-python",
   "name": "python",
   "nbconvert_exporter": "python",
   "pygments_lexer": "ipython3",
   "version": "3.7.1"
  }
 },
 "nbformat": 4,
 "nbformat_minor": 2
}
